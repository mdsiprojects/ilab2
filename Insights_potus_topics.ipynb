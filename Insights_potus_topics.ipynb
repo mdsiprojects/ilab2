{
 "cells": [
  {
   "cell_type": "code",
   "execution_count": 1,
   "metadata": {},
   "outputs": [
    {
     "name": "stdout",
     "output_type": "stream",
     "text": [
      "importing helper functions\n"
     ]
    },
    {
     "name": "stderr",
     "output_type": "stream",
     "text": [
      "INFO:gensim.utils:loading LdaModel object from /home/azureuser/cloudfiles/code/data/processing/potus/experiment/tempexp1/lda.model\n",
      "INFO:gensim.utils:loading expElogbeta from /home/azureuser/cloudfiles/code/data/processing/potus/experiment/tempexp1/lda.model.expElogbeta.npy with mmap=None\n"
     ]
    },
    {
     "name": "stdout",
     "output_type": "stream",
     "text": [
      "load lda model from /home/azureuser/cloudfiles/code/data/processing/potus/experiment/tempexp1/lda.model\n"
     ]
    },
    {
     "name": "stderr",
     "output_type": "stream",
     "text": [
      "INFO:gensim.utils:setting ignored attribute dispatcher to None\n",
      "INFO:gensim.utils:setting ignored attribute id2word to None\n",
      "INFO:gensim.utils:setting ignored attribute state to None\n",
      "INFO:gensim.utils:loaded /home/azureuser/cloudfiles/code/data/processing/potus/experiment/tempexp1/lda.model\n",
      "INFO:gensim.utils:loading LdaState object from /home/azureuser/cloudfiles/code/data/processing/potus/experiment/tempexp1/lda.model.state\n",
      "INFO:gensim.utils:loaded /home/azureuser/cloudfiles/code/data/processing/potus/experiment/tempexp1/lda.model.state\n"
     ]
    }
   ],
   "source": [
    "# %%\n",
    "import helpers.process as process\n",
    "from helpers import io as pickle_io\n",
    "from gensim.models import ldamodel\n",
    "from gensim.models import CoherenceModel\n",
    "import pyLDAvis\n",
    "import tqdm\n",
    "from helpers import potus\n",
    "import gc\n",
    "import logging\n",
    "import numpy as np\n",
    "logging.basicConfig(format=logging.BASIC_FORMAT, level=logging.INFO)\n",
    "\n",
    "\n",
    "root_folder = potus.rootFolder('tempexp1')\n",
    "\n",
    "lda_model_fn = root_folder + '/lda.model'\n",
    "print(f'load lda model from {lda_model_fn}')\n",
    "lda_model = ldamodel.LdaModel.load(lda_model_fn)"
   ]
  },
  {
   "cell_type": "code",
   "execution_count": 2,
   "metadata": {},
   "outputs": [],
   "source": [
    "# %%\n",
    "#  print topics and top terms in topic\n",
    "def print_topic(lda_model, topicid, n):\n",
    "    topic_terms = lda_model.get_topic_terms(topicid, topn=n)\n",
    "    terms = list()\n",
    "    probs = list()\n",
    "    for termid, prob in topic_terms:\n",
    "        term = lda_model.id2word.get(termid)\n",
    "        terms.append(term)\n",
    "        probs.append(prob)\n",
    "    terms = ' '.join(terms)\n",
    "    print(f'Topic {topicid:02}: {terms}')\n",
    "\n",
    "\n"
   ]
  },
  {
   "cell_type": "code",
   "execution_count": 3,
   "metadata": {},
   "outputs": [
    {
     "name": "stdout",
     "output_type": "stream",
     "text": [
      "Topic 00: grace pinckney country applause state must upon united_state every congress\n",
      "Topic 01: state united_state constitution upon shall power without purpose country case\n",
      "Topic 02: congress energy foreign state program income nothing country upon still\n",
      "Topic 03: coin united_state gold bond right country made applause every american\n",
      "Topic 04: congress country republican program united_state state need must power first\n",
      "Topic 05: kennedy united_state believe going country administration nixon first program position\n",
      "Topic 06: united_state state shall vessel ship without country service subject work\n",
      "Topic 07: congress united_state increase state last well spending must world right\n",
      "Topic 08: state united_state congress constitution power right upon union shall country\n",
      "Topic 09: united_state state right victim chinese_laborer chinese well today take treaty\n",
      "Topic 10: country united_state congress must state american world upon could right\n",
      "Topic 11: income investment well american dividend country system problem congress revenue\n",
      "Topic 12: inflation country business problem today must federal every american economy\n",
      "Topic 13: state congress united_state country must well right power texas peace\n",
      "Topic 14: american country coal somalia miner state troop must well right\n",
      "Topic 15: american health_care country system money work need applause reform plan\n",
      "Topic 16: peace united_state world american shall country communist negotiation plan must\n",
      "Topic 17: state united_state country upon great power american must congress without\n",
      "Topic 18: united_state country applause state american made america first great world\n",
      "Topic 19: state united_state country power congress citizen right upon appeal case\n",
      "Topic 20: united_state capital signed absent want executive country absence state seat\n",
      "Topic 21: united_state country world american state soviet program power first control\n",
      "Topic 22: united_state american country state world congress great america every upon\n",
      "Topic 23: country state test right policy upon without american world united_state\n",
      "Topic 24: shall examination person officer state upon office made appointment commission\n",
      "Topic 25: energy united_state country every american future make world part must\n",
      "Topic 26: today vietnam united_state still duty cause american state well ceremony\n",
      "Topic 27: country united_state state american family natoma audience right applause well\n",
      "Topic 28: research power united_state stem_cell state committee embryo human without congress\n",
      "Topic 29: united_state state american country every first home congress power work\n",
      "Topic 30: country shall world labor must american united_state power cuba fact\n",
      "Topic 31: united_state state majesty subject american upon indian country slave vessel\n",
      "Topic 32: state whereas united_state rebellion congress proclamation constitution insurrection country union\n",
      "Topic 33: country state upon united_state american congress made right make power\n",
      "Topic 34: state american berlin courage wall country brandenburg made united_state great\n",
      "Topic 35: country state united_state right made american great shall congress must\n",
      "Topic 36: united_state world country first great aircraft important well program asia\n",
      "Topic 37: land great brother governor state detroit shall federal country american\n",
      "Topic 38: afghanistan world assad pakistan security america afghan united_state qaeda american\n",
      "Topic 39: state united_state shall office state_texas right made boundary could without\n",
      "Topic 40: united_state country congress upon great state american shall power must\n",
      "Topic 41: united_state today peace country must land state made upon great\n",
      "Topic 42: america american world applause must freedom country know tonight life\n",
      "Topic 43: never state world hope must come life country purpose made\n",
      "Topic 44: country republican state great united_state made american power well make\n",
      "Topic 45: country must american great upon united_state state congress every world\n",
      "Topic 46: american know america country must world going help work today\n",
      "Topic 47: must country state american america world united_state congress work power\n",
      "Topic 48: united_state country state shall american must well first peace congress\n",
      "Topic 49: united_state country state upon land present general subject purpose congress\n",
      "Topic 50: army union khrushchev compromise vienna negro enemy free come must\n",
      "Topic 51: country united_state state island interest congress made upon great american\n",
      "Topic 52: meat report inspection united_state shall state work product food_product country\n",
      "Topic 53: revenue expenditure country receipt without upon shall state congress every\n",
      "Topic 54: american right country great life state negro make must business\n",
      "Topic 55: state united_state spain number shall right country harbor water authority\n",
      "Topic 56: country united_state upon american congress state world must power great\n",
      "Topic 57: american state agreement negotiation today united_state statement country talk well\n",
      "Topic 58: kosovo country nato milosevic serbia europe united_state must world force\n",
      "Topic 59: american country going state know united_state part life every ever\n",
      "Topic 60: treaty united_state mexican state mexico congress article commissioner amended shall\n",
      "Topic 61: state line river united_state lake boundary upon stream branch country\n",
      "Topic 62: united_state treaty state world country future america congress american instrument\n",
      "Topic 63: american country must program upon america work power every great\n",
      "Topic 64: dukakis groer well state country american jennings first mashek lehrer\n",
      "Topic 65: american company king auto country industry bankruptcy automaker loan made\n",
      "Topic 66: united_state state country shall congress power upon treaty made duty\n",
      "Topic 67: applause country senior congress medicare america united_state state right american\n",
      "Topic 68: united_state gold value country effect american state british price world\n",
      "Topic 69: state united_state american country must upon great congress shall world\n",
      "Topic 70: peace watergate world must great american united hope america first\n",
      "Topic 71: country never america every american must republic shall made right\n",
      "Topic 72: panama colon telegram united_state november isthmus washington_november sent ehrman november_received\n",
      "Topic 73: state country united_state congress american power without must right make\n",
      "Topic 74: bank united_state shall country business must upon bond banking make\n",
      "Topic 75: state bank power congress country upon united_state present subject duty\n",
      "Topic 76: negro american justice must shall country world freedom upon died\n",
      "Topic 77: great space come world free country state united_state first today\n",
      "Topic 78: tariff schedule country duty upon item rate article increase increased\n",
      "Topic 79: union secretary transportation strike attorney_general well going controller work offer\n",
      "Topic 80: united_state state representative american university judge mississippi order court made\n",
      "Topic 81: american country state congress klan upon united_state made america justice\n",
      "Topic 82: peace united_state american south_vietnam force vietnam military berlin country lebanon\n",
      "Topic 83: election power united_state state shall marshal officer general congressional_election duty\n",
      "Topic 84: united_state treaty upon state american chilean fact sailor provisional vessel\n",
      "Topic 85: united_state immigrant general huerta read_write come immigration state right mexico\n",
      "Topic 86: country great want responsibility american victory going congress citizen given\n",
      "Topic 87: united_state state newtown country congress know shall power first right\n",
      "Topic 88: upon state made congress shall country power without great interest\n",
      "Topic 89: applause american senior america medicare country congress today right every\n",
      "Topic 90: state united_state nebraska shall congress mexico constitution right upon texas\n",
      "Topic 91: world america peace american freedom today must shall civilization hope\n",
      "Topic 92: hartley state taft american right united_state union made worker country\n",
      "Topic 93: state united_state great country power upon right make must bryan\n",
      "Topic 94: country american united_state state treaty well upon must congress power\n",
      "Topic 95: lebanon must country force israel beirut lebanese well peace foreign\n",
      "Topic 96: state country city upon united_state troop could plan every first\n",
      "Topic 97: united_state american country congress chinese upon world state good appropriation\n",
      "Topic 98: america peace american world bosnia freedom must applause every terrorist\n",
      "Topic 99: space right freedom america country united_state must state world nasa\n"
     ]
    }
   ],
   "source": [
    "\n",
    "for i in range(lda_model.num_topics):\n",
    "    print_topic(lda_model,i, n=10)"
   ]
  },
  {
   "cell_type": "code",
   "execution_count": null,
   "metadata": {},
   "outputs": [],
   "source": []
  }
 ],
 "metadata": {
  "kernelspec": {
   "display_name": "Python 3.6 - AzureML",
   "language": "python",
   "name": "python3-azureml"
  },
  "language_info": {
   "codemirror_mode": {
    "name": "ipython",
    "version": 3
   },
   "file_extension": ".py",
   "mimetype": "text/x-python",
   "name": "python",
   "nbconvert_exporter": "python",
   "pygments_lexer": "ipython3",
   "version": "3.6.9"
  }
 },
 "nbformat": 4,
 "nbformat_minor": 4
}
